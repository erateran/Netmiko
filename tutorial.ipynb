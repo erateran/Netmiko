{
 "cells": [
  {
   "cell_type": "markdown",
   "metadata": {},
   "source": [
    "# Netmiko"
   ]
  },
  {
   "cell_type": "markdown",
   "metadata": {},
   "source": [
    "## Working with basic methods"
   ]
  },
  {
   "cell_type": "code",
   "execution_count": null,
   "metadata": {},
   "outputs": [],
   "source": [
    "from netmiko import ConnectHandler\n",
    "\n",
    "device = {\n",
    "    'device_type': 'cisco_ios',\n",
    "    'ip': '192.168.31.99',\n",
    "    'username': 'admin',\n",
    "    'password': 'cisco',\n",
    "}\n",
    "\n",
    "# Connecting to device\n",
    "connection = ConnectHandler(**device)   # Unpacking dictionary\n",
    "\n",
    "print(connection.find_prompt())\n",
    "\n",
    "connection.disconnect()"
   ]
  },
  {
   "cell_type": "code",
   "execution_count": null,
   "metadata": {},
   "outputs": [],
   "source": [
    "# Equivalent to unpacking\n",
    "connection = ConnectHandler(device_type='cisco_ios', ip='192.168.31.99', username='admin', password='cisco')"
   ]
  },
  {
   "cell_type": "code",
   "execution_count": null,
   "metadata": {},
   "outputs": [],
   "source": [
    "# Using the context manager to disconnect automatically\n",
    "with ConnectHandler(**device) as net_connect:\n",
    "    print(net_connect.find_prompt())"
   ]
  },
  {
   "cell_type": "code",
   "execution_count": null,
   "metadata": {},
   "outputs": [],
   "source": [
    "# More methods\n",
    "'''\n",
    "enable / exit_enable\n",
    "config_mode / exit_config_mode\n",
    "check_config_mode / check_enable_mode\n",
    "disconnet\n",
    "'''"
   ]
  },
  {
   "cell_type": "code",
   "execution_count": null,
   "metadata": {},
   "outputs": [],
   "source": [
    "from netmiko import ConnectHandler\n",
    "\n",
    "R1 = {\n",
    "    'device_type': 'cisco_ios',\n",
    "    'ip': '192.168.31.99',\n",
    "    'username': 'admin',\n",
    "    'password': 'cisco',\n",
    "}\n",
    "\n",
    "R2 = {\n",
    "    'device_type': 'cisco_ios',\n",
    "    'ip': '192.168.31.249',\n",
    "    'username': 'admin',\n",
    "    'password': 'cisco',\n",
    "}\n",
    "\n",
    "R3 = {\n",
    "    'device_type': 'cisco_ios',\n",
    "    'ip': '192.168.31.199',\n",
    "    'username': 'admin',\n",
    "    'password': 'cisco',\n",
    "}\n",
    "\n",
    "# Connecting to multiple devices\n",
    "for device in (R1, R2, R3):\n",
    "    connection = ConnectHandler(**device)\n",
    "    print(connection.find_prompt())\n",
    "    connection.disconnect()"
   ]
  },
  {
   "cell_type": "code",
   "execution_count": null,
   "metadata": {},
   "outputs": [],
   "source": [
    "# Sending command to a device\n",
    "output = connection.send_command('show ip int br')"
   ]
  },
  {
   "cell_type": "code",
   "execution_count": null,
   "metadata": {},
   "outputs": [],
   "source": [
    "with ConnectHandler(**device) as net_connect:\n",
    "    output = net_connect.send_command('show ip int br')"
   ]
  },
  {
   "cell_type": "code",
   "execution_count": null,
   "metadata": {},
   "outputs": [],
   "source": [
    "# Sending multiple commands\n",
    "from netmiko import ConnectHandler\n",
    "\n",
    "device = {\n",
    "    'device_type': 'cisco_ios',\n",
    "    'ip': '192.168.31.99',\n",
    "    'username': 'admin',\n",
    "    'password': 'cisco',\n",
    "    'secret': 'cisco'\n",
    "}\n",
    "\n",
    "connection = ConnectHandler(**device)\n",
    "connection.enable()\n",
    "config_commands = ['interface e0/0', 'description just for test!']\n",
    "output = connection.send_config_set(config_commands)\n",
    "print(output)"
   ]
  },
  {
   "cell_type": "code",
   "execution_count": null,
   "metadata": {},
   "outputs": [],
   "source": [
    "# Save configuration after sending commands\n",
    "output += connection.save_config()\n",
    "print(output)"
   ]
  },
  {
   "cell_type": "code",
   "execution_count": null,
   "metadata": {},
   "outputs": [],
   "source": [
    "# Pull configuration from file\n",
    "from netmiko import ConnectHandler\n",
    "\n",
    "device = {\n",
    "    'device_type': 'cisco_ios',\n",
    "    'ip': '192.168.31.99',\n",
    "    'username': 'admin',\n",
    "    'password': 'cisco',\n",
    "    'secret': 'cisco'\n",
    "}\n",
    "\n",
    "connection = ConnectHandler(**device)\n",
    "connection.enable()\n",
    "output = connection.send_config_from_file('config.txt')\n",
    "print(output)"
   ]
  },
  {
   "cell_type": "code",
   "execution_count": null,
   "metadata": {},
   "outputs": [],
   "source": [
    "from netmiko import ConnectHandler\n",
    "\n",
    "device = {\n",
    "    'device_type': 'cisco_ios',\n",
    "    'ip': '192.168.31.99',\n",
    "    'username': 'admin',\n",
    "    'password': 'cisco',\n",
    "    'secret': 'cisco',\n",
    "    'session_log': 'my_session.txt',  # Save session logs into a file\n",
    "}\n",
    "\n",
    "command = 'show ip int brief'\n",
    "with ConnectHandler(**device) as net_connect:\n",
    "    output = net_connect.send_command(command)\n",
    "    print(output)\n"
   ]
  },
  {
   "cell_type": "code",
   "execution_count": null,
   "metadata": {},
   "outputs": [],
   "source": [
    "# Logging with much more details\n",
    "from netmiko import ConnectHandler\n",
    "import logging\n",
    "\n",
    "device = {\n",
    "    'device_type': 'cisco_ios',\n",
    "    'ip': '192.168.31.99',\n",
    "    'username': 'admin',\n",
    "    'password': 'cisco',\n",
    "    'secret': 'cisco',\n",
    "}\n",
    "\n",
    "\n",
    "logging.basicConfig(filename='test.log', level=logging.DEBUG)\n",
    "logger = logging.getLogger(\"netmiko\")\n",
    "\n",
    "net_connect = ConnectHandler(**device)\n",
    "print(net_connect.find_prompt())\n",
    "net_connect.disconnect()"
   ]
  },
  {
   "cell_type": "code",
   "execution_count": null,
   "metadata": {},
   "outputs": [],
   "source": [
    "# Handling user input\n",
    "from netmiko import ConnectHandler\n",
    "\n",
    "device= {\n",
    "        'device_type': 'cisco_ios',\n",
    "        'ip': '192.168.31.99',\n",
    "        'username': 'admin',\n",
    "        'password': 'cisco',\n",
    "        'secret': 'cisco'\n",
    "        }\n",
    "\n",
    "connection = ConnectHandler(**device)\n",
    "connection.enable()\n",
    "\n",
    "output = connection.send_command_timing('copy running-config startup-config', strip_prompt=False,\n",
    "                                        strip_command=False)\n",
    "\n",
    "if 'Destination filename' in output:\n",
    "    output += connection.send_command_timing('\\n', strip_prompt=False, strip_command=False)\n",
    "\n",
    "connection.disconnect()"
   ]
  },
  {
   "cell_type": "code",
   "execution_count": null,
   "metadata": {},
   "outputs": [],
   "source": [
    "from netmiko import ConnectHandler\n",
    "\n",
    "device = {\n",
    "    'device_type': 'cisco_ios',\n",
    "    'ip': '192.168.31.99',\n",
    "    'username': 'admin',\n",
    "    'password': 'cisco',\n",
    "}\n",
    "\n",
    "command = \"copy flash:image1.bin flash:backup/image1.bin\"\n",
    "\n",
    "connection = ConnectHandler(**device)\n",
    "connection.enable()\n",
    "\n",
    "# Using a delay factor of 400 seconds\n",
    "output = net_connect.send_command_timing(\n",
    "    command, strip_prompt=False, strip_command=False, delay_factor=4\n",
    ")"
   ]
  },
  {
   "cell_type": "code",
   "execution_count": null,
   "metadata": {},
   "outputs": [],
   "source": [
    "from netmiko import ConnectHandler\n",
    "\n",
    "device = {\n",
    "    'device_type': 'cisco_ios',\n",
    "    'ip': '192.168.31.99',\n",
    "    'username': 'admin',\n",
    "    'password': 'cisco',\n",
    "    'global_delay_factor': 4    # Global delay factor of 400 seconds\n",
    "}\n"
   ]
  },
  {
   "cell_type": "markdown",
   "metadata": {},
   "source": [
    "## Parsing"
   ]
  },
  {
   "cell_type": "code",
   "execution_count": null,
   "metadata": {},
   "outputs": [],
   "source": [
    "# Using TextFSM\n",
    "from netmiko import ConnectHandler\n",
    "\n",
    "device = {\n",
    "    'device_type': 'cisco_ios',\n",
    "    'ip': '192.168.31.99',\n",
    "    'username': 'admin',\n",
    "    'password': 'cisco',\n",
    "    'secret': 'cisco'\n",
    "}\n",
    "\n",
    "connection = ConnectHandler(**device)\n",
    "connection.enable()\n",
    "output = connection.send_command('show ip int br', use_textfsm=True)\n",
    "print(output)"
   ]
  },
  {
   "cell_type": "code",
   "execution_count": null,
   "metadata": {},
   "outputs": [],
   "source": [
    "# Parsing with TextFSM and pprint\n",
    "from netmiko import ConnectHandler\n",
    "from pprint import pprint\n",
    "\n",
    "device = {\n",
    "    'device_type': 'cisco_ios',\n",
    "    'ip': '192.168.31.99',\n",
    "    'username': 'admin',\n",
    "    'password': 'cisco',\n",
    "    'secret': 'cisco'\n",
    "}\n",
    "\n",
    "connection = ConnectHandler(**device)\n",
    "connection.enable()\n",
    "output = connection.send_command('show ip int br', use_textfsm=True)\n",
    "\n",
    "# Pretty Print\n",
    "pprint(output)"
   ]
  },
  {
   "cell_type": "code",
   "execution_count": null,
   "metadata": {},
   "outputs": [],
   "source": [
    "# Colorizing the output with colorama\n",
    "from netmiko import ConnectHandler\n",
    "from colorama import Fore\n",
    "\n",
    "device = {\n",
    "    'device_type': 'cisco_ios',\n",
    "    'ip': '192.168.31.99',\n",
    "    'username': 'admin',\n",
    "    'password': 'cisco',\n",
    "    'secret': 'cisco'\n",
    "}\n",
    "\n",
    "connection = ConnectHandler(**device)\n",
    "connection.enable()\n",
    "output = connection.send_command('show ip int br', use_textfsm=True)\n",
    "\n",
    "color_map = {\n",
    "    'up': Fore.GREEN,\n",
    "    'down': Fore.YELLOW,\n",
    "    'administratively down': Fore.RED\n",
    "}\n",
    "\n",
    "# Print the colorized output\n",
    "for interface in output:\n",
    "    status = interface['status'].lower()\n",
    "    if status in color_map:\n",
    "        color = color_map[status]\n",
    "        print(color, interface)\n",
    "    else:\n",
    "        print(interface)\n",
    "\n",
    "connection.disconnect()"
   ]
  },
  {
   "cell_type": "code",
   "execution_count": null,
   "metadata": {},
   "outputs": [],
   "source": [
    "# Using Genie\n",
    "from netmiko import ConnectHandler\n",
    "from pprint import pprint\n",
    "\n",
    "device = {\n",
    "    \"device_type\": \"cisco_ios\",\n",
    "    \"ip\": \"192.168.31.99\",\n",
    "    \"username\": \"admin\",\n",
    "    \"password\": 'cisco',\n",
    "    \"secret\": 'cisco',\n",
    "}\n",
    "\n",
    "with ConnectHandler(**device) as net_connect:\n",
    "    output = net_connect.send_command(\"show ip interface brief\", use_genie=True)\n",
    "\n",
    "print()\n",
    "pprint(output)\n",
    "print()"
   ]
  },
  {
   "cell_type": "markdown",
   "metadata": {},
   "source": [
    "## Multithreading"
   ]
  },
  {
   "cell_type": "code",
   "execution_count": null,
   "metadata": {},
   "outputs": [],
   "source": [
    "# Not using multithreading\n",
    "from netmiko import ConnectHandler\n",
    "import time\n",
    "\n",
    "start = time.time()\n",
    "\n",
    "R1 = {\n",
    "    'device_type': 'cisco_ios',\n",
    "    'ip': '192.168.31.99',\n",
    "    'username': 'admin',\n",
    "    'password': 'cisco',\n",
    "}\n",
    "\n",
    "R2 = {\n",
    "    'device_type': 'cisco_ios',\n",
    "    'ip': '192.168.31.249',\n",
    "    'username': 'admin',\n",
    "    'password': 'cisco',\n",
    "}\n",
    "\n",
    "R3 = {\n",
    "    'device_type': 'cisco_ios',\n",
    "    'ip': '192.168.31.199',\n",
    "    'username': 'admin',\n",
    "    'password': 'cisco',\n",
    "}\n",
    "\n",
    "for device in (R1, R2, R3):\n",
    "    connection = ConnectHandler(**device)\n",
    "    print(connection.find_prompt())\n",
    "    time.sleep(5)\n",
    "    connection.disconnect()\n",
    "\n",
    "end = time.time()\n",
    "\n",
    "print(f\"Total execution time: {end - start}\")"
   ]
  },
  {
   "cell_type": "code",
   "execution_count": null,
   "metadata": {},
   "outputs": [],
   "source": [
    "# With multithreading\n",
    "from netmiko import ConnectHandler\n",
    "import time\n",
    "import concurrent.futures\n",
    "\n",
    "start = time.time()\n",
    "\n",
    "R1 = {\n",
    "    'device_type': 'cisco_ios',\n",
    "    'ip': '192.168.31.99',\n",
    "    'username': 'admin',\n",
    "    'password': 'cisco',\n",
    "}\n",
    "\n",
    "R2 = {\n",
    "    'device_type': 'cisco_ios',\n",
    "    'ip': '192.168.31.249',\n",
    "    'username': 'admin',\n",
    "    'password': 'cisco',\n",
    "}\n",
    "\n",
    "R3 = {\n",
    "    'device_type': 'cisco_ios',\n",
    "    'ip': '192.168.31.199',\n",
    "    'username': 'admin',\n",
    "    'password': 'cisco',\n",
    "}\n",
    "\n",
    "\n",
    "def execute_command(device):\n",
    "    net_connect = ConnectHandler(**device)\n",
    "    print(net_connect.find_prompt())\n",
    "    time.sleep(5)\n",
    "    net_connect.disconnect()\n",
    "\n",
    "\n",
    "with concurrent.futures.ThreadPoolExecutor() as executor:\n",
    "    executor.map(execute_command, (R1, R2, R3))\n",
    "\n",
    "end = time.time()\n",
    "\n",
    "print(f\"Total execution time: {end - start}\")"
   ]
  }
 ],
 "metadata": {
  "kernelspec": {
   "display_name": "Python 3",
   "language": "python",
   "name": "python3"
  },
  "language_info": {
   "codemirror_mode": {
    "name": "ipython",
    "version": 3
   },
   "file_extension": ".py",
   "mimetype": "text/x-python",
   "name": "python",
   "nbconvert_exporter": "python",
   "pygments_lexer": "ipython3",
   "version": "3.12.0"
  }
 },
 "nbformat": 4,
 "nbformat_minor": 2
}
